{
 "cells": [
  {
   "cell_type": "markdown",
   "id": "78851074",
   "metadata": {},
   "source": [
    "Demo code to explain the basic concepts of variables ,constants , Placeholders\n",
    "\n",
    "\n",
    "- writing the tensorflow code is different as compared to writing python code for creating a machine learning model\n",
    "- here in tensorflow we do create tensorflow object which have default graph but that graph does not contain any operation \n",
    "\n",
    "- writing the tensorflow code is like first we need to create computational graph which consist of nodes and edges in nodes we do perfome the operations and in edges it contain the tensors which means feeding the data which we store in the multidimensional array and this all get done by writing code and in general we do write code which contains varaibles get assigines and we do perfom the operations but in tensorflow code each and every line we should consider as operations for creating a computational graph  \n",
    "- so we can create a computational graph by writing code\n",
    "- and then we need to exectute the computational graph by creating a session and that session do exectue the computational graph"
   ]
  },
  {
   "cell_type": "code",
   "execution_count": 2,
   "id": "21298270",
   "metadata": {},
   "outputs": [],
   "source": [
    "import tensorflow as tf\n"
   ]
  },
  {
   "cell_type": "markdown",
   "id": "e9e37674",
   "metadata": {},
   "source": [
    "### variable"
   ]
  },
  {
   "cell_type": "code",
   "execution_count": 3,
   "id": "c2fd52f1",
   "metadata": {},
   "outputs": [],
   "source": [
    "# this is the variable\n",
    "zero=tf.Variable(0) # We can able to modify the varaible value"
   ]
  },
  {
   "cell_type": "markdown",
   "id": "59ebdef1",
   "metadata": {},
   "source": [
    "### Constant"
   ]
  },
  {
   "cell_type": "code",
   "execution_count": 4,
   "id": "335fa8ab",
   "metadata": {},
   "outputs": [],
   "source": [
    "# this is a constant\n",
    "one=tf.constant(1) # We cannot able to modify the constant value"
   ]
  },
  {
   "cell_type": "code",
   "execution_count": 5,
   "id": "14894f14",
   "metadata": {},
   "outputs": [],
   "source": [
    "new_value=tf.add(zero,one) # we used the add operation to add zero and one varaible"
   ]
  },
  {
   "cell_type": "code",
   "execution_count": 6,
   "id": "f4f5bc76",
   "metadata": {},
   "outputs": [],
   "source": [
    "# variable value can be changed\n",
    "update=tf.compat.v1.assign(zero,new_value) #  assign function is not directly available in the tensorflow module. This is because the assign function has been moved to the tf.compat.v1 , we are assiging the new value which that got by adding the (varaible and constant ) to the zero varaible"
   ]
  },
  {
   "cell_type": "code",
   "execution_count": 7,
   "id": "3feaf95b",
   "metadata": {},
   "outputs": [
    {
     "ename": "AttributeError",
     "evalue": "'tensorflow.python.framework.ops.EagerTensor' object has no attribute 'assign'",
     "output_type": "error",
     "traceback": [
      "\u001b[1;31m---------------------------------------------------------------------------\u001b[0m",
      "\u001b[1;31mAttributeError\u001b[0m                            Traceback (most recent call last)",
      "Cell \u001b[1;32mIn[7], line 2\u001b[0m\n\u001b[0;32m      1\u001b[0m \u001b[38;5;66;03m# constant value can't be changed\u001b[39;00m\n\u001b[1;32m----> 2\u001b[0m constant\u001b[38;5;241m=\u001b[39mtf\u001b[38;5;241m.\u001b[39mcompat\u001b[38;5;241m.\u001b[39mv1\u001b[38;5;241m.\u001b[39massign(one,new_value)\n",
      "File \u001b[1;32m~\\ANACONDA\\Lib\\site-packages\\tensorflow\\python\\ops\\state_ops.py:355\u001b[0m, in \u001b[0;36massign\u001b[1;34m(ref, value, validate_shape, use_locking, name)\u001b[0m\n\u001b[0;32m    351\u001b[0m \u001b[38;5;28;01mif\u001b[39;00m ref\u001b[38;5;241m.\u001b[39mdtype\u001b[38;5;241m.\u001b[39m_is_ref_dtype:\n\u001b[0;32m    352\u001b[0m   \u001b[38;5;28;01mreturn\u001b[39;00m gen_state_ops\u001b[38;5;241m.\u001b[39massign(\n\u001b[0;32m    353\u001b[0m       ref, value, use_locking\u001b[38;5;241m=\u001b[39muse_locking, name\u001b[38;5;241m=\u001b[39mname,\n\u001b[0;32m    354\u001b[0m       validate_shape\u001b[38;5;241m=\u001b[39mvalidate_shape)\n\u001b[1;32m--> 355\u001b[0m \u001b[38;5;28;01mreturn\u001b[39;00m ref\u001b[38;5;241m.\u001b[39massign(value, name\u001b[38;5;241m=\u001b[39mname)\n",
      "File \u001b[1;32m~\\ANACONDA\\Lib\\site-packages\\tensorflow\\python\\framework\\tensor.py:261\u001b[0m, in \u001b[0;36mTensor.__getattr__\u001b[1;34m(self, name)\u001b[0m\n\u001b[0;32m    253\u001b[0m \u001b[38;5;28;01mif\u001b[39;00m name \u001b[38;5;129;01min\u001b[39;00m {\u001b[38;5;124m\"\u001b[39m\u001b[38;5;124mT\u001b[39m\u001b[38;5;124m\"\u001b[39m, \u001b[38;5;124m\"\u001b[39m\u001b[38;5;124mastype\u001b[39m\u001b[38;5;124m\"\u001b[39m, \u001b[38;5;124m\"\u001b[39m\u001b[38;5;124mravel\u001b[39m\u001b[38;5;124m\"\u001b[39m, \u001b[38;5;124m\"\u001b[39m\u001b[38;5;124mtranspose\u001b[39m\u001b[38;5;124m\"\u001b[39m, \u001b[38;5;124m\"\u001b[39m\u001b[38;5;124mreshape\u001b[39m\u001b[38;5;124m\"\u001b[39m, \u001b[38;5;124m\"\u001b[39m\u001b[38;5;124mclip\u001b[39m\u001b[38;5;124m\"\u001b[39m, \u001b[38;5;124m\"\u001b[39m\u001b[38;5;124msize\u001b[39m\u001b[38;5;124m\"\u001b[39m,\n\u001b[0;32m    254\u001b[0m             \u001b[38;5;124m\"\u001b[39m\u001b[38;5;124mtolist\u001b[39m\u001b[38;5;124m\"\u001b[39m, \u001b[38;5;124m\"\u001b[39m\u001b[38;5;124mdata\u001b[39m\u001b[38;5;124m\"\u001b[39m}:\n\u001b[0;32m    255\u001b[0m   \u001b[38;5;66;03m# TODO(wangpeng): Export the enable_numpy_behavior knob\u001b[39;00m\n\u001b[0;32m    256\u001b[0m   \u001b[38;5;28;01mraise\u001b[39;00m \u001b[38;5;167;01mAttributeError\u001b[39;00m(\n\u001b[0;32m    257\u001b[0m       \u001b[38;5;124mf\u001b[39m\u001b[38;5;124m\"\u001b[39m\u001b[38;5;132;01m{\u001b[39;00m\u001b[38;5;28mtype\u001b[39m(\u001b[38;5;28mself\u001b[39m)\u001b[38;5;241m.\u001b[39m\u001b[38;5;18m__name__\u001b[39m\u001b[38;5;132;01m}\u001b[39;00m\u001b[38;5;124m object has no attribute \u001b[39m\u001b[38;5;124m'\u001b[39m\u001b[38;5;132;01m{\u001b[39;00mname\u001b[38;5;132;01m}\u001b[39;00m\u001b[38;5;124m'\u001b[39m\u001b[38;5;124m. \u001b[39m\u001b[38;5;124m\"\u001b[39m \u001b[38;5;241m+\u001b[39m \u001b[38;5;124m\"\"\"\u001b[39m\n\u001b[0;32m    258\u001b[0m \u001b[38;5;124m    If you are looking for numpy-related methods, please run the following:\u001b[39m\n\u001b[0;32m    259\u001b[0m \u001b[38;5;124m    tf.experimental.numpy.experimental_enable_numpy_behavior()\u001b[39m\n\u001b[0;32m    260\u001b[0m \u001b[38;5;124m  \u001b[39m\u001b[38;5;124m\"\"\"\u001b[39m)\n\u001b[1;32m--> 261\u001b[0m \u001b[38;5;28mself\u001b[39m\u001b[38;5;241m.\u001b[39m\u001b[38;5;21m__getattribute__\u001b[39m(name)\n",
      "\u001b[1;31mAttributeError\u001b[0m: 'tensorflow.python.framework.ops.EagerTensor' object has no attribute 'assign'"
     ]
    }
   ],
   "source": [
    "# constant value can't be changed\n",
    "constant=tf.compat.v1.assign(one,new_value)"
   ]
  },
  {
   "cell_type": "code",
   "execution_count": 8,
   "id": "a6178f7c",
   "metadata": {},
   "outputs": [],
   "source": [
    "# initialize varaibles\n",
    "init_op = tf.compat.v1.global_variables_initializer()# We need to call this global_variables_initializer() if we want to execute our variables in our code\n"
   ]
  },
  {
   "cell_type": "markdown",
   "id": "a2d0b954",
   "metadata": {},
   "source": [
    "#### IMP\n",
    "before running the Session we need to initilize the varaibles if we our code contain the varaibles then only we can able to run the Session or else we will get error if we dont have variables in our code in our code we just have placeholders and constants then we can directly run the session"
   ]
  },
  {
   "cell_type": "code",
   "execution_count": 9,
   "id": "e6009d97",
   "metadata": {},
   "outputs": [],
   "source": [
    "# creating the Session for executing the Graph which consist of operations\n",
    "sess=tf.compat.v1.Session() # here we are creating a Session by using Session we can able to execute the graph which it contains the program\n",
    "\n"
   ]
  },
  {
   "cell_type": "code",
   "execution_count": 10,
   "id": "98b2231c",
   "metadata": {},
   "outputs": [
    {
     "ename": "RuntimeError",
     "evalue": "The Session graph is empty. Add operations to the graph before calling run().",
     "output_type": "error",
     "traceback": [
      "\u001b[1;31m---------------------------------------------------------------------------\u001b[0m",
      "\u001b[1;31mRuntimeError\u001b[0m                              Traceback (most recent call last)",
      "Cell \u001b[1;32mIn[10], line 1\u001b[0m\n\u001b[1;32m----> 1\u001b[0m sess\u001b[38;5;241m.\u001b[39mrun(init_op)\n",
      "File \u001b[1;32m~\\ANACONDA\\Lib\\site-packages\\tensorflow\\python\\client\\session.py:972\u001b[0m, in \u001b[0;36mBaseSession.run\u001b[1;34m(self, fetches, feed_dict, options, run_metadata)\u001b[0m\n\u001b[0;32m    969\u001b[0m run_metadata_ptr \u001b[38;5;241m=\u001b[39m tf_session\u001b[38;5;241m.\u001b[39mTF_NewBuffer() \u001b[38;5;28;01mif\u001b[39;00m run_metadata \u001b[38;5;28;01melse\u001b[39;00m \u001b[38;5;28;01mNone\u001b[39;00m\n\u001b[0;32m    971\u001b[0m \u001b[38;5;28;01mtry\u001b[39;00m:\n\u001b[1;32m--> 972\u001b[0m   result \u001b[38;5;241m=\u001b[39m \u001b[38;5;28mself\u001b[39m\u001b[38;5;241m.\u001b[39m_run(\u001b[38;5;28;01mNone\u001b[39;00m, fetches, feed_dict, options_ptr,\n\u001b[0;32m    973\u001b[0m                      run_metadata_ptr)\n\u001b[0;32m    974\u001b[0m   \u001b[38;5;28;01mif\u001b[39;00m run_metadata:\n\u001b[0;32m    975\u001b[0m     proto_data \u001b[38;5;241m=\u001b[39m tf_session\u001b[38;5;241m.\u001b[39mTF_GetBuffer(run_metadata_ptr)\n",
      "File \u001b[1;32m~\\ANACONDA\\Lib\\site-packages\\tensorflow\\python\\client\\session.py:1142\u001b[0m, in \u001b[0;36mBaseSession._run\u001b[1;34m(self, handle, fetches, feed_dict, options, run_metadata)\u001b[0m\n\u001b[0;32m   1140\u001b[0m   \u001b[38;5;28;01mraise\u001b[39;00m \u001b[38;5;167;01mRuntimeError\u001b[39;00m(\u001b[38;5;124m'\u001b[39m\u001b[38;5;124mAttempted to use a closed Session.\u001b[39m\u001b[38;5;124m'\u001b[39m)\n\u001b[0;32m   1141\u001b[0m \u001b[38;5;28;01mif\u001b[39;00m \u001b[38;5;28mself\u001b[39m\u001b[38;5;241m.\u001b[39mgraph\u001b[38;5;241m.\u001b[39mversion \u001b[38;5;241m==\u001b[39m \u001b[38;5;241m0\u001b[39m:\n\u001b[1;32m-> 1142\u001b[0m   \u001b[38;5;28;01mraise\u001b[39;00m \u001b[38;5;167;01mRuntimeError\u001b[39;00m(\u001b[38;5;124m'\u001b[39m\u001b[38;5;124mThe Session graph is empty. Add operations to the \u001b[39m\u001b[38;5;124m'\u001b[39m\n\u001b[0;32m   1143\u001b[0m                      \u001b[38;5;124m'\u001b[39m\u001b[38;5;124mgraph before calling run().\u001b[39m\u001b[38;5;124m'\u001b[39m)\n\u001b[0;32m   1145\u001b[0m \u001b[38;5;66;03m# Create request.\u001b[39;00m\n\u001b[0;32m   1146\u001b[0m feed_dict_tensor \u001b[38;5;241m=\u001b[39m {}\n",
      "\u001b[1;31mRuntimeError\u001b[0m: The Session graph is empty. Add operations to the graph before calling run()."
     ]
    }
   ],
   "source": [
    "sess.run(init_op)"
   ]
  },
  {
   "cell_type": "markdown",
   "id": "85f5de6c",
   "metadata": {},
   "source": [
    "If you're using TensorFlow 2.x, some functions and classes that were available in TensorFlow 1.x have been moved to the tf.compat.v1 module. This module provides backward compatibility for older TensorFlow code. To use these functions and classes, you need to import them from the tf.compat.v1 module explicitly."
   ]
  },
  {
   "cell_type": "code",
   "execution_count": null,
   "id": "315bbb1a",
   "metadata": {},
   "outputs": [],
   "source": [
    "for _ in range(5):\n",
    "    sess.run(update)\n",
    "    print(sess.run(zero))"
   ]
  },
  {
   "cell_type": "markdown",
   "id": "0577be38",
   "metadata": {},
   "source": [
    "## string operation"
   ]
  },
  {
   "cell_type": "code",
   "execution_count": null,
   "id": "05fc26e4",
   "metadata": {},
   "outputs": [],
   "source": [
    "# string operations we can also run the string operations but most of the time we do run only the numerical operations but some time we do run string operations too"
   ]
  },
  {
   "cell_type": "code",
   "execution_count": null,
   "id": "3998da4b",
   "metadata": {},
   "outputs": [],
   "source": [
    "hello=tf.constant(\"hello\") # we are creating the string operations "
   ]
  },
  {
   "cell_type": "code",
   "execution_count": null,
   "id": "c1e286fb",
   "metadata": {},
   "outputs": [],
   "source": [
    "world=tf.constant(\"world\") # here too we are creating the string operations"
   ]
  },
  {
   "cell_type": "code",
   "execution_count": null,
   "id": "ef92340a",
   "metadata": {},
   "outputs": [],
   "source": [
    "helloworld=tf.add(hello,world) # here we are adding the 2 string operations by using add"
   ]
  },
  {
   "cell_type": "code",
   "execution_count": null,
   "id": "eaeed811",
   "metadata": {},
   "outputs": [],
   "source": [
    "print(sess.run(helloworld))  # now we are executing the 2 added string operations by using Session "
   ]
  },
  {
   "cell_type": "markdown",
   "id": "81e978bc",
   "metadata": {},
   "source": [
    "#### imp\n",
    "Once we create a session till we close the session it remain valid we can use any no of times we want that to run the operations"
   ]
  },
  {
   "cell_type": "markdown",
   "id": "02639816",
   "metadata": {},
   "source": [
    "### Placeholder"
   ]
  },
  {
   "cell_type": "code",
   "execution_count": null,
   "id": "e3c4bf28",
   "metadata": {},
   "outputs": [],
   "source": [
    "# placeholder\n",
    "a=tf.placeholder(tf.float32) # placeholder is same like variable but in addition that it do feed the data to the tensorflow model, we cannot able to specify the value as we do specify value constant and varaible we just need to give what type of placeholder we want here i given float32  "
   ]
  },
  {
   "cell_type": "code",
   "execution_count": null,
   "id": "fcd81a55",
   "metadata": {},
   "outputs": [],
   "source": [
    "b=a*2 # right now a does not have any value but later on if we given value to a then the b value will be twice of a "
   ]
  },
  {
   "cell_type": "code",
   "execution_count": null,
   "id": "fa67cbf3",
   "metadata": {},
   "outputs": [],
   "source": [
    "# feeding the placeholder with scalar\n",
    "result=sess.run(b,feed_dict(a:3)) # it means i used scalar adn which i have given 3 as value to feed the a in order to b value get compute"
   ]
  },
  {
   "cell_type": "markdown",
   "id": "26f766fc",
   "metadata": {},
   "source": [
    "In order to compute the value of b i have to give value to 'a' that get possible by feeding the value to a by using dictionary so in dictionary we are giving a value as 3 and feed_dict is just a variable , and there are multiple ways of operating the value of 'a' typically this is just single scalar value and we can also use vector or tensor (multi dimension array)"
   ]
  },
  {
   "cell_type": "code",
   "execution_count": null,
   "id": "48198084",
   "metadata": {},
   "outputs": [],
   "source": [
    "# feeding the placeholder with vector of rank 1\n",
    "result=see.run(b,feed_dict={a:[3,4,5]})  #  [3,4,5] it means i used vector  which i have given 3,4,5 as values to feed the 'a' in order to 'b' value get compute"
   ]
  },
  {
   "cell_type": "code",
   "execution_count": null,
   "id": "311fe4f4",
   "metadata": {},
   "outputs": [],
   "source": [
    "# feeding the placeholder with multidimension vector \n",
    "dictionary={a:[[[1,2,3],[4,5,6],[10,11,12],[13,14,15],[16,17,18],[19,20,21],[22,23,24]]]}\n",
    "result=see.run(b,feed_dict=dictionary)\n",
    "print(result)"
   ]
  },
  {
   "cell_type": "markdown",
   "id": "0621f558",
   "metadata": {},
   "source": [
    "read the data in the dictionary and then we feed that for performing the computation operations it could be CSV file, image file input could be usually read and feed for performing the operations we usually dont read the large amount of data at a time in tensorflow thatswhy we use placeholders for getting data in chunks  "
   ]
  },
  {
   "cell_type": "code",
   "execution_count": null,
   "id": "2f33d182",
   "metadata": {},
   "outputs": [],
   "source": [
    "sess.close() # it means which ever session we opened for running the code or operations that we are going to close"
   ]
  },
  {
   "cell_type": "code",
   "execution_count": null,
   "id": "c40a8008",
   "metadata": {},
   "outputs": [],
   "source": [
    "# common way of creating a Session\n",
    "with tf.Session() as sess:\n",
    "    result=sess.run(hello+world)\n",
    "    print(result)\n",
    "    \n",
    "# we write this type code which consist of creating a session when we are trying to compute the code or operations and closing session as soon as we compute the code"
   ]
  },
  {
   "cell_type": "markdown",
   "id": "d0a44e53",
   "metadata": {},
   "source": [
    "Till here we learnt how to write the code for constant,variables,placeholders and how to create a session and how to run the operations "
   ]
  },
  {
   "cell_type": "markdown",
   "id": "1892fe45",
   "metadata": {},
   "source": [
    "### Now lets understand how graph is created and executed \n"
   ]
  },
  {
   "cell_type": "code",
   "execution_count": 96,
   "id": "bed372f8",
   "metadata": {},
   "outputs": [],
   "source": [
    "import tensorflow as tf # whenever we create a tf object there would be defaulot graph"
   ]
  },
  {
   "cell_type": "code",
   "execution_count": 97,
   "id": "f3d046f8",
   "metadata": {},
   "outputs": [],
   "source": [
    "graph=tf.compat.v1.get_default_graph() # this is way to call the default graph that got created when we created the tensorflow object"
   ]
  },
  {
   "cell_type": "markdown",
   "id": "42babd13",
   "metadata": {},
   "source": [
    "for now we did not create any operations if we just consider the above 2 line of code "
   ]
  },
  {
   "cell_type": "code",
   "execution_count": 98,
   "id": "1cfe74fa",
   "metadata": {},
   "outputs": [
    {
     "data": {
      "text/plain": [
       "[]"
      ]
     },
     "execution_count": 98,
     "metadata": {},
     "output_type": "execute_result"
    }
   ],
   "source": [
    "graph.get_operations() # it is used to get to know what all operations that we perform on the graph"
   ]
  },
  {
   "cell_type": "markdown",
   "id": "27f4637b",
   "metadata": {},
   "source": [
    "we got above output as null it means we did not perfome any operations on the graph"
   ]
  },
  {
   "cell_type": "markdown",
   "id": "35fdbe9b",
   "metadata": {},
   "source": [
    "#### now we are slowly trying to build a graph\n",
    "\n",
    "building the graph means writing code like for performing the operations like varaible,constant,placeholders"
   ]
  },
  {
   "cell_type": "code",
   "execution_count": 99,
   "id": "8007acca",
   "metadata": {},
   "outputs": [],
   "source": [
    "a=tf.constant(10,name='a') # we can give name to our constant giveing name to our constant will help us once we run the which all operations that we run on our graph "
   ]
  },
  {
   "cell_type": "code",
   "execution_count": 102,
   "id": "339b4a76",
   "metadata": {},
   "outputs": [
    {
     "data": {
      "text/plain": [
       "[]"
      ]
     },
     "execution_count": 102,
     "metadata": {},
     "output_type": "execute_result"
    }
   ],
   "source": [
    "operations=graph.get_operations()\n",
    "operations"
   ]
  },
  {
   "cell_type": "markdown",
   "id": "ec90323e",
   "metadata": {},
   "source": [
    "we got above output with name as a which means that we run the constant operation on our graph"
   ]
  },
  {
   "cell_type": "code",
   "execution_count": 110,
   "id": "3842da53",
   "metadata": {},
   "outputs": [],
   "source": [
    "b=tf.constant(10,name='b')"
   ]
  },
  {
   "cell_type": "code",
   "execution_count": 111,
   "id": "269d0a05",
   "metadata": {},
   "outputs": [
    {
     "data": {
      "text/plain": [
       "[]"
      ]
     },
     "execution_count": 111,
     "metadata": {},
     "output_type": "execute_result"
    }
   ],
   "source": [
    "operations=graph.get_operations()\n",
    "operations"
   ]
  },
  {
   "cell_type": "code",
   "execution_count": 112,
   "id": "891fa378",
   "metadata": {},
   "outputs": [],
   "source": [
    "# adding the 2 operations\n",
    "c=tf.add(a,b,name='b')"
   ]
  },
  {
   "cell_type": "code",
   "execution_count": 115,
   "id": "db50b021",
   "metadata": {},
   "outputs": [
    {
     "data": {
      "text/plain": [
       "<tf.Tensor: shape=(), dtype=int32, numpy=20>"
      ]
     },
     "execution_count": 115,
     "metadata": {},
     "output_type": "execute_result"
    }
   ],
   "source": [
    "c"
   ]
  },
  {
   "cell_type": "code",
   "execution_count": 113,
   "id": "1706857c",
   "metadata": {},
   "outputs": [],
   "source": [
    "# multiplying the 2 operations\n",
    "d=tf.multiply(a,b,name='d')"
   ]
  },
  {
   "cell_type": "code",
   "execution_count": 114,
   "id": "38a1711a",
   "metadata": {},
   "outputs": [
    {
     "data": {
      "text/plain": [
       "<tf.Tensor: shape=(), dtype=int32, numpy=100>"
      ]
     },
     "execution_count": 114,
     "metadata": {},
     "output_type": "execute_result"
    }
   ],
   "source": [
    "d"
   ]
  },
  {
   "cell_type": "code",
   "execution_count": 116,
   "id": "9dbbeb78",
   "metadata": {},
   "outputs": [
    {
     "data": {
      "text/plain": [
       "[]"
      ]
     },
     "execution_count": 116,
     "metadata": {},
     "output_type": "execute_result"
    }
   ],
   "source": [
    "operations=graph.get_operations()\n",
    "operations"
   ]
  },
  {
   "cell_type": "markdown",
   "id": "e49ab2db",
   "metadata": {},
   "source": [
    "#### Creating Session for running the graph which consist of operations"
   ]
  },
  {
   "cell_type": "code",
   "execution_count": 117,
   "id": "b35a6897",
   "metadata": {},
   "outputs": [
    {
     "ename": "AttributeError",
     "evalue": "module 'tensorflow' has no attribute 'Session'",
     "output_type": "error",
     "traceback": [
      "\u001b[1;31m---------------------------------------------------------------------------\u001b[0m",
      "\u001b[1;31mAttributeError\u001b[0m                            Traceback (most recent call last)",
      "Cell \u001b[1;32mIn[117], line 1\u001b[0m\n\u001b[1;32m----> 1\u001b[0m sess\u001b[38;5;241m=\u001b[39m\u001b[43mtf\u001b[49m\u001b[38;5;241;43m.\u001b[39;49m\u001b[43mSession\u001b[49m()\n",
      "\u001b[1;31mAttributeError\u001b[0m: module 'tensorflow' has no attribute 'Session'"
     ]
    }
   ],
   "source": [
    "sess=tf.Session()"
   ]
  },
  {
   "cell_type": "code",
   "execution_count": null,
   "id": "3ecee85c",
   "metadata": {},
   "outputs": [],
   "source": [
    "print(sess.run(d)) # through this sess i can able to run the operations which are present in the graph"
   ]
  },
  {
   "cell_type": "code",
   "execution_count": 118,
   "id": "4a945aaa",
   "metadata": {},
   "outputs": [],
   "source": [
    "for op in graph.get_operations(): print(op.name)"
   ]
  },
  {
   "cell_type": "markdown",
   "id": "e956ee9e",
   "metadata": {},
   "source": [
    "By the above output we can easily get to know which all operations that we perfom on the graph"
   ]
  },
  {
   "cell_type": "code",
   "execution_count": 119,
   "id": "e227b8d3",
   "metadata": {},
   "outputs": [],
   "source": [
    "sess.close() # after we done with running the operations which are present in the graph we need to close the session\n"
   ]
  },
  {
   "cell_type": "markdown",
   "id": "f4e6073c",
   "metadata": {},
   "source": [
    "### we understood the how tensorflow programming works and looks like so in the next notebook we will look  into how the classication program works w.r.t tensorflow "
   ]
  },
  {
   "cell_type": "code",
   "execution_count": null,
   "id": "1dceb461",
   "metadata": {},
   "outputs": [],
   "source": []
  }
 ],
 "metadata": {
  "kernelspec": {
   "display_name": "Python 3 (ipykernel)",
   "language": "python",
   "name": "python3"
  },
  "language_info": {
   "codemirror_mode": {
    "name": "ipython",
    "version": 3
   },
   "file_extension": ".py",
   "mimetype": "text/x-python",
   "name": "python",
   "nbconvert_exporter": "python",
   "pygments_lexer": "ipython3",
   "version": "3.11.5"
  }
 },
 "nbformat": 4,
 "nbformat_minor": 5
}
